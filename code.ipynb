{
 "cells": [
  {
   "cell_type": "code",
   "execution_count": 2,
   "metadata": {},
   "outputs": [],
   "source": [
    "# Importing all the necessary libraries\n",
    "\n",
    "import pandas as pd\n",
    "import json"
   ]
  },
  {
   "cell_type": "markdown",
   "metadata": {},
   "source": [
    "#### The Goal here is to create 4 files \n",
    "\n",
    "1) behaviour.csv (from Json format)\n",
    "2) campaign.csv (from Json format)\n",
    "3) demographics.csv (from txt format)\n",
    "4) merged_data (this will be consolidation of all the csv files i.e \"behaviour.csv\"+\"campaign.csv\"+\"demographics.csv\")"
   ]
  },
  {
   "cell_type": "code",
   "execution_count": 3,
   "metadata": {},
   "outputs": [
    {
     "name": "stdout",
     "output_type": "stream",
     "text": [
      "         ID  Recency  MntWines  MntFruits  MntMeatProducts  MntFishProducts  \\\n",
      "0   ID_1826        0       189        104              379              111   \n",
      "1      ID_1        0       464          5               64                7   \n",
      "2  ID_10476        0       134         11               59               15   \n",
      "3   ID_1386        0        10          0                1                0   \n",
      "4   ID_5371        0         6         16               24               11   \n",
      "\n",
      "   MntSweetProducts  MntGoldProds  NumDealsPurchases  NumWebPurchases  \\\n",
      "0               189           218                  1                4   \n",
      "1                 0            37                  1                7   \n",
      "2                 2            30                  1                3   \n",
      "3                 0             0                  1                1   \n",
      "4                 0            34                  2                3   \n",
      "\n",
      "   NumCatalogPurchases  NumStorePurchases  NumWebVisitsMonth  \n",
      "0                    4                  6                  1  \n",
      "1                    3                  7                  5  \n",
      "2                    2                  5                  2  \n",
      "3                    0                  2                  7  \n",
      "4                    1                  2                  7  \n"
     ]
    }
   ],
   "source": [
    "# reading the beheviour JSON file and converting it into pandas dataframe and saving it in csv format\n",
    "\n",
    "# Load JSON data from file\n",
    "with open('behaviour.json') as f:\n",
    "    data = json.load(f)\n",
    "\n",
    "# Initialize an empty list to store dictionaries\n",
    "rows = []\n",
    "\n",
    "# Iterate over each dictionary in the list\n",
    "for item in data:\n",
    "    # Extract the ID and attributes from the dictionary\n",
    "    id_ = list(item.keys())[0]\n",
    "    attributes = item[id_]\n",
    "    \n",
    "    # Create a dictionary with ID as a key and attributes\n",
    "    row = {'ID': id_}\n",
    "    row.update(attributes)\n",
    "    rows.append(row)\n",
    "\n",
    "# Create a DataFrame from the list of dictionaries\n",
    "df_behaviour = pd.DataFrame(rows)\n",
    "\n",
    "\n",
    "\n",
    "# Display the DataFrame\n",
    "print(df_behaviour.head())"
   ]
  },
  {
   "cell_type": "code",
   "execution_count": 4,
   "metadata": {},
   "outputs": [
    {
     "name": "stdout",
     "output_type": "stream",
     "text": [
      "      ID  Recency  MntWines  MntFruits  MntMeatProducts  MntFishProducts  \\\n",
      "0   1826        0       189        104              379              111   \n",
      "1      1        0       464          5               64                7   \n",
      "2  10476        0       134         11               59               15   \n",
      "3   1386        0        10          0                1                0   \n",
      "4   5371        0         6         16               24               11   \n",
      "\n",
      "   MntSweetProducts  MntGoldProds  NumDealsPurchases  NumWebPurchases  \\\n",
      "0               189           218                  1                4   \n",
      "1                 0            37                  1                7   \n",
      "2                 2            30                  1                3   \n",
      "3                 0             0                  1                1   \n",
      "4                 0            34                  2                3   \n",
      "\n",
      "   NumCatalogPurchases  NumStorePurchases  NumWebVisitsMonth  \n",
      "0                    4                  6                  1  \n",
      "1                    3                  7                  5  \n",
      "2                    2                  5                  2  \n",
      "3                    0                  2                  7  \n",
      "4                    1                  2                  7  \n"
     ]
    }
   ],
   "source": [
    "# since we can see that the column ID has data as \"ID_1826\" so we need to remove the \"ID_\" part form it\n",
    "\n",
    "# Remove \"ID_\" prefix from the \"ID\" column in each DataFrame\n",
    "df_behaviour['ID'] = df_behaviour['ID'].str.replace('ID_', '')\n",
    "print(df_behaviour.head())"
   ]
  },
  {
   "cell_type": "code",
   "execution_count": 5,
   "metadata": {},
   "outputs": [],
   "source": [
    "# Save the DataFrame to a CSV file\n",
    "#df_behaviour.to_csv('behaviour.csv', index=False)"
   ]
  },
  {
   "cell_type": "code",
   "execution_count": 6,
   "metadata": {},
   "outputs": [
    {
     "name": "stdout",
     "output_type": "stream",
     "text": [
      "         ID  AcceptedCmp1  AcceptedCmp2  AcceptedCmp3  AcceptedCmp4  \\\n",
      "0   ID_1826             0             0             0             0   \n",
      "1      ID_1             0             1             0             0   \n",
      "2  ID_10476             0             0             0             0   \n",
      "3   ID_1386             0             0             0             0   \n",
      "4   ID_5371             0             0             1             0   \n",
      "\n",
      "   AcceptedCmp5  Response  Complain  \n",
      "0             0         1         0  \n",
      "1             0         1         0  \n",
      "2             0         0         0  \n",
      "3             0         0         0  \n",
      "4             0         1         0  \n"
     ]
    }
   ],
   "source": [
    "# reading the campaingn JSON file and converting it into pandas dataframe and saving it in csv format\n",
    "\n",
    "\n",
    "\n",
    "\n",
    "# Load JSON data from file\n",
    "with open('campaign.json') as f:\n",
    "    data = json.load(f)\n",
    "\n",
    "# Initialize an empty list to store dictionaries\n",
    "rows = []\n",
    "\n",
    "# Iterate over each dictionary in the list\n",
    "for item in data:\n",
    "    # Extract the ID and attributes from the dictionary\n",
    "    id_ = list(item.keys())[0]\n",
    "    attributes = item[id_]\n",
    "    \n",
    "    # Create a dictionary with ID as a key and attributes\n",
    "    row = {'ID': id_}\n",
    "    row.update(attributes)\n",
    "    rows.append(row)\n",
    "\n",
    "# Create a DataFrame from the list of dictionaries\n",
    "df_campaign = pd.DataFrame(rows)\n",
    "\n",
    "# Display the DataFrame\n",
    "print(df_campaign.head())"
   ]
  },
  {
   "cell_type": "code",
   "execution_count": 7,
   "metadata": {},
   "outputs": [
    {
     "name": "stdout",
     "output_type": "stream",
     "text": [
      "      ID  AcceptedCmp1  AcceptedCmp2  AcceptedCmp3  AcceptedCmp4  \\\n",
      "0   1826             0             0             0             0   \n",
      "1      1             0             1             0             0   \n",
      "2  10476             0             0             0             0   \n",
      "3   1386             0             0             0             0   \n",
      "4   5371             0             0             1             0   \n",
      "\n",
      "   AcceptedCmp5  Response  Complain  \n",
      "0             0         1         0  \n",
      "1             0         1         0  \n",
      "2             0         0         0  \n",
      "3             0         0         0  \n",
      "4             0         1         0  \n"
     ]
    }
   ],
   "source": [
    "# since we can see that the column ID has data as \"ID_1826\" so we need to remove the \"ID_\" part form it\n",
    "\n",
    "# Remove \"ID_\" prefix from the \"ID\" column in each DataFrame\n",
    "df_campaign['ID'] = df_campaign['ID'].str.replace('ID_', '')\n",
    "print(df_campaign.head())"
   ]
  },
  {
   "cell_type": "code",
   "execution_count": 8,
   "metadata": {},
   "outputs": [
    {
     "name": "stdout",
     "output_type": "stream",
     "text": [
      "      ID  AcceptedCmp1  AcceptedCmp2  AcceptedCmp3  AcceptedCmp4  \\\n",
      "0   1826             0             0             0             0   \n",
      "1      1             0             1             0             0   \n",
      "2  10476             0             0             0             0   \n",
      "3   1386             0             0             0             0   \n",
      "4   5371             0             0             1             0   \n",
      "\n",
      "   AcceptedCmp5  Response  Complain  \n",
      "0             0         1         0  \n",
      "1             0         1         0  \n",
      "2             0         0         0  \n",
      "3             0         0         0  \n",
      "4             0         1         0  \n"
     ]
    }
   ],
   "source": [
    "# Save the DataFrame to a CSV file\n",
    "#df_campaign.to_csv('campaign.csv', index=False)\n",
    "print(df_campaign.head())"
   ]
  },
  {
   "cell_type": "code",
   "execution_count": 9,
   "metadata": {},
   "outputs": [
    {
     "name": "stdout",
     "output_type": "stream",
     "text": [
      "         ID  Year_Birth   Education Marital_Status      Income   Kidhome  \\\n",
      "0      1826        1970  Graduation       Divorced  $84,835.00         0   \n",
      "1         1        1961  Graduation         Single  $57,091.00         0   \n",
      "2     10476        1958  Graduation        Married  $67,267.00         0   \n",
      "3      1386        1967  Graduation       Together  $32,474.00         1   \n",
      "4      5371        1989  Graduation         Single  $21,474.00         1   \n",
      "...     ...         ...         ...            ...          ...      ...   \n",
      "2235  10142        1976         PhD       Divorced  $66,476.00         0   \n",
      "2236   5263        1977    2n Cycle        Married  $31,056.00         1   \n",
      "2237     22        1976  Graduation       Divorced  $46,310.00         1   \n",
      "2238    528        1978  Graduation        Married  $65,819.00         0   \n",
      "2239   4070        1969         PhD        Married  $94,871.00         0   \n",
      "\n",
      "      Teenhome Dt_Customer Country  \n",
      "0            0     6/16/14      SP  \n",
      "1            0     6/15/14      CA  \n",
      "2            1     5/13/14      US  \n",
      "3            1     5/11/14     AUS  \n",
      "4            0      4/8/14      SP  \n",
      "...        ...         ...     ...  \n",
      "2235         1      3/7/13      US  \n",
      "2236         0     1/22/13      SP  \n",
      "2237         0     12/3/12      SP  \n",
      "2238         0    11/29/12     IND  \n",
      "2239         2      9/1/12      CA  \n",
      "\n",
      "[2240 rows x 9 columns]\n"
     ]
    }
   ],
   "source": [
    "\n",
    "# reading the demographics file and converting it into pandas dataframe and saving it in csv format\n",
    "\n",
    "\n",
    "# Read the text file into a pandas DataFrame\n",
    "df_demographics = pd.read_csv('demographics.txt', delimiter='\\t')\n",
    "\n",
    "# Display the DataFrame\n",
    "print(df_demographics)\n",
    "\n",
    "# Save the DataFrame to a CSV file\n",
    "#df_demographics.to_csv('demographics.csv', index=False)"
   ]
  },
  {
   "cell_type": "code",
   "execution_count": 10,
   "metadata": {},
   "outputs": [
    {
     "data": {
      "text/html": [
       "<div>\n",
       "<style scoped>\n",
       "    .dataframe tbody tr th:only-of-type {\n",
       "        vertical-align: middle;\n",
       "    }\n",
       "\n",
       "    .dataframe tbody tr th {\n",
       "        vertical-align: top;\n",
       "    }\n",
       "\n",
       "    .dataframe thead th {\n",
       "        text-align: right;\n",
       "    }\n",
       "</style>\n",
       "<table border=\"1\" class=\"dataframe\">\n",
       "  <thead>\n",
       "    <tr style=\"text-align: right;\">\n",
       "      <th></th>\n",
       "      <th>ID</th>\n",
       "      <th>Year_Birth</th>\n",
       "      <th>Education</th>\n",
       "      <th>Marital_Status</th>\n",
       "      <th>Income</th>\n",
       "      <th>Kidhome</th>\n",
       "      <th>Teenhome</th>\n",
       "      <th>Dt_Customer</th>\n",
       "      <th>Country</th>\n",
       "    </tr>\n",
       "  </thead>\n",
       "  <tbody>\n",
       "    <tr>\n",
       "      <th>0</th>\n",
       "      <td>1826</td>\n",
       "      <td>1970</td>\n",
       "      <td>Graduation</td>\n",
       "      <td>Divorced</td>\n",
       "      <td>$84,835.00</td>\n",
       "      <td>0</td>\n",
       "      <td>0</td>\n",
       "      <td>6/16/14</td>\n",
       "      <td>SP</td>\n",
       "    </tr>\n",
       "    <tr>\n",
       "      <th>1</th>\n",
       "      <td>1</td>\n",
       "      <td>1961</td>\n",
       "      <td>Graduation</td>\n",
       "      <td>Single</td>\n",
       "      <td>$57,091.00</td>\n",
       "      <td>0</td>\n",
       "      <td>0</td>\n",
       "      <td>6/15/14</td>\n",
       "      <td>CA</td>\n",
       "    </tr>\n",
       "    <tr>\n",
       "      <th>2</th>\n",
       "      <td>10476</td>\n",
       "      <td>1958</td>\n",
       "      <td>Graduation</td>\n",
       "      <td>Married</td>\n",
       "      <td>$67,267.00</td>\n",
       "      <td>0</td>\n",
       "      <td>1</td>\n",
       "      <td>5/13/14</td>\n",
       "      <td>US</td>\n",
       "    </tr>\n",
       "    <tr>\n",
       "      <th>3</th>\n",
       "      <td>1386</td>\n",
       "      <td>1967</td>\n",
       "      <td>Graduation</td>\n",
       "      <td>Together</td>\n",
       "      <td>$32,474.00</td>\n",
       "      <td>1</td>\n",
       "      <td>1</td>\n",
       "      <td>5/11/14</td>\n",
       "      <td>AUS</td>\n",
       "    </tr>\n",
       "    <tr>\n",
       "      <th>4</th>\n",
       "      <td>5371</td>\n",
       "      <td>1989</td>\n",
       "      <td>Graduation</td>\n",
       "      <td>Single</td>\n",
       "      <td>$21,474.00</td>\n",
       "      <td>1</td>\n",
       "      <td>0</td>\n",
       "      <td>4/8/14</td>\n",
       "      <td>SP</td>\n",
       "    </tr>\n",
       "    <tr>\n",
       "      <th>...</th>\n",
       "      <td>...</td>\n",
       "      <td>...</td>\n",
       "      <td>...</td>\n",
       "      <td>...</td>\n",
       "      <td>...</td>\n",
       "      <td>...</td>\n",
       "      <td>...</td>\n",
       "      <td>...</td>\n",
       "      <td>...</td>\n",
       "    </tr>\n",
       "    <tr>\n",
       "      <th>2235</th>\n",
       "      <td>10142</td>\n",
       "      <td>1976</td>\n",
       "      <td>PhD</td>\n",
       "      <td>Divorced</td>\n",
       "      <td>$66,476.00</td>\n",
       "      <td>0</td>\n",
       "      <td>1</td>\n",
       "      <td>3/7/13</td>\n",
       "      <td>US</td>\n",
       "    </tr>\n",
       "    <tr>\n",
       "      <th>2236</th>\n",
       "      <td>5263</td>\n",
       "      <td>1977</td>\n",
       "      <td>2n Cycle</td>\n",
       "      <td>Married</td>\n",
       "      <td>$31,056.00</td>\n",
       "      <td>1</td>\n",
       "      <td>0</td>\n",
       "      <td>1/22/13</td>\n",
       "      <td>SP</td>\n",
       "    </tr>\n",
       "    <tr>\n",
       "      <th>2237</th>\n",
       "      <td>22</td>\n",
       "      <td>1976</td>\n",
       "      <td>Graduation</td>\n",
       "      <td>Divorced</td>\n",
       "      <td>$46,310.00</td>\n",
       "      <td>1</td>\n",
       "      <td>0</td>\n",
       "      <td>12/3/12</td>\n",
       "      <td>SP</td>\n",
       "    </tr>\n",
       "    <tr>\n",
       "      <th>2238</th>\n",
       "      <td>528</td>\n",
       "      <td>1978</td>\n",
       "      <td>Graduation</td>\n",
       "      <td>Married</td>\n",
       "      <td>$65,819.00</td>\n",
       "      <td>0</td>\n",
       "      <td>0</td>\n",
       "      <td>11/29/12</td>\n",
       "      <td>IND</td>\n",
       "    </tr>\n",
       "    <tr>\n",
       "      <th>2239</th>\n",
       "      <td>4070</td>\n",
       "      <td>1969</td>\n",
       "      <td>PhD</td>\n",
       "      <td>Married</td>\n",
       "      <td>$94,871.00</td>\n",
       "      <td>0</td>\n",
       "      <td>2</td>\n",
       "      <td>9/1/12</td>\n",
       "      <td>CA</td>\n",
       "    </tr>\n",
       "  </tbody>\n",
       "</table>\n",
       "<p>2240 rows × 9 columns</p>\n",
       "</div>"
      ],
      "text/plain": [
       "         ID  Year_Birth   Education Marital_Status      Income   Kidhome  \\\n",
       "0      1826        1970  Graduation       Divorced  $84,835.00         0   \n",
       "1         1        1961  Graduation         Single  $57,091.00         0   \n",
       "2     10476        1958  Graduation        Married  $67,267.00         0   \n",
       "3      1386        1967  Graduation       Together  $32,474.00         1   \n",
       "4      5371        1989  Graduation         Single  $21,474.00         1   \n",
       "...     ...         ...         ...            ...          ...      ...   \n",
       "2235  10142        1976         PhD       Divorced  $66,476.00         0   \n",
       "2236   5263        1977    2n Cycle        Married  $31,056.00         1   \n",
       "2237     22        1976  Graduation       Divorced  $46,310.00         1   \n",
       "2238    528        1978  Graduation        Married  $65,819.00         0   \n",
       "2239   4070        1969         PhD        Married  $94,871.00         0   \n",
       "\n",
       "      Teenhome Dt_Customer Country  \n",
       "0            0     6/16/14      SP  \n",
       "1            0     6/15/14      CA  \n",
       "2            1     5/13/14      US  \n",
       "3            1     5/11/14     AUS  \n",
       "4            0      4/8/14      SP  \n",
       "...        ...         ...     ...  \n",
       "2235         1      3/7/13      US  \n",
       "2236         0     1/22/13      SP  \n",
       "2237         0     12/3/12      SP  \n",
       "2238         0    11/29/12     IND  \n",
       "2239         2      9/1/12      CA  \n",
       "\n",
       "[2240 rows x 9 columns]"
      ]
     },
     "execution_count": 10,
     "metadata": {},
     "output_type": "execute_result"
    }
   ],
   "source": [
    "df_demographics"
   ]
  },
  {
   "cell_type": "code",
   "execution_count": 11,
   "metadata": {},
   "outputs": [
    {
     "name": "stdout",
     "output_type": "stream",
     "text": [
      "Data type of 'ID' column in behaviour_df: object\n",
      "Data type of 'ID' column in demographics_df: int64\n",
      "Data type of 'ID' column in campaign_df: object\n"
     ]
    }
   ],
   "source": [
    "# In order to merge all the three csv files on common column \"ID\" we need to make sure that in all the files the datatype of the \"ID\" column is INT datatype\n",
    "\n",
    "# Check the data type of the \"ID\" column in each DataFrame\n",
    "print(\"Data type of 'ID' column in behaviour_df:\", df_behaviour['ID'].dtype)\n",
    "print(\"Data type of 'ID' column in demographics_df:\", df_demographics['ID'].dtype)\n",
    "print(\"Data type of 'ID' column in campaign_df:\", df_campaign['ID'].dtype)\n"
   ]
  },
  {
   "cell_type": "markdown",
   "metadata": {},
   "source": [
    "#### As we can see in above cell that the data type of \"ID\" column is already in int64 for \"demographics_df\"so we need not do a conversion for it ,\n",
    "#### we will convert only the data type of \"ID\" in \"df_behaviour\" and \"df_campaign\" "
   ]
  },
  {
   "cell_type": "code",
   "execution_count": 12,
   "metadata": {},
   "outputs": [
    {
     "name": "stdout",
     "output_type": "stream",
     "text": [
      "Data type of 'ID' column in behaviour_df: int64\n",
      "Data type of 'ID' column in campaign_df: int64\n"
     ]
    }
   ],
   "source": [
    "# Convert the \"ID\" column to int64 data type in behaviour_df and campaign_df\n",
    "df_behaviour['ID'] = df_behaviour['ID'].astype('int64')\n",
    "df_campaign['ID'] = df_campaign['ID'].astype('int64')\n",
    "\n",
    "# Check the data type of the \"ID\" column in each DataFrame again\n",
    "print(\"Data type of 'ID' column in behaviour_df:\", df_behaviour['ID'].dtype)\n",
    "print(\"Data type of 'ID' column in campaign_df:\", df_campaign['ID'].dtype)"
   ]
  },
  {
   "cell_type": "code",
   "execution_count": 13,
   "metadata": {},
   "outputs": [
    {
     "name": "stdout",
     "output_type": "stream",
     "text": [
      "         ID  Recency  MntWines  MntFruits  MntMeatProducts  MntFishProducts  \\\n",
      "0      1826        0       189        104              379              111   \n",
      "1         1        0       464          5               64                7   \n",
      "2     10476        0       134         11               59               15   \n",
      "3      1386        0        10          0                1                0   \n",
      "4      5371        0         6         16               24               11   \n",
      "...     ...      ...       ...        ...              ...              ...   \n",
      "2235  10142       99       372         18              126               47   \n",
      "2236   5263       99         5         10               13                3   \n",
      "2237     22       99       185          2               88               15   \n",
      "2238    528       99       267         38              701              149   \n",
      "2239   4070       99       169         24              553              188   \n",
      "\n",
      "      MntSweetProducts  MntGoldProds  NumDealsPurchases  NumWebPurchases  ...  \\\n",
      "0                  189           218                  1                4  ...   \n",
      "1                    0            37                  1                7  ...   \n",
      "2                    2            30                  1                3  ...   \n",
      "3                    0             0                  1                1  ...   \n",
      "4                    0            34                  2                3  ...   \n",
      "...                ...           ...                ...              ...  ...   \n",
      "2235                48            78                  2                5  ...   \n",
      "2236                 8            16                  1                1  ...   \n",
      "2237                 5            14                  2                6  ...   \n",
      "2238               165            63                  1                5  ...   \n",
      "2239                 0           144                  1                8  ...   \n",
      "\n",
      "      Teenhome  Dt_Customer  Country  AcceptedCmp1 AcceptedCmp2 AcceptedCmp3  \\\n",
      "0            0      6/16/14       SP             0            0            0   \n",
      "1            0      6/15/14       CA             0            1            0   \n",
      "2            1      5/13/14       US             0            0            0   \n",
      "3            1      5/11/14      AUS             0            0            0   \n",
      "4            0       4/8/14       SP             0            0            1   \n",
      "...        ...          ...      ...           ...          ...          ...   \n",
      "2235         1       3/7/13       US             0            0            0   \n",
      "2236         0      1/22/13       SP             0            0            0   \n",
      "2237         0      12/3/12       SP             0            0            0   \n",
      "2238         0     11/29/12      IND             0            0            0   \n",
      "2239         2       9/1/12       CA             0            0            0   \n",
      "\n",
      "     AcceptedCmp4  AcceptedCmp5  Response Complain  \n",
      "0               0             0         1        0  \n",
      "1               0             0         1        0  \n",
      "2               0             0         0        0  \n",
      "3               0             0         0        0  \n",
      "4               0             0         1        0  \n",
      "...           ...           ...       ...      ...  \n",
      "2235            0             0         0        0  \n",
      "2236            0             0         0        0  \n",
      "2237            0             0         0        0  \n",
      "2238            0             0         0        0  \n",
      "2239            1             1         1        0  \n",
      "\n",
      "[2240 rows x 28 columns]\n"
     ]
    }
   ],
   "source": [
    "# Merge df_behaviour, df_demographics, and df_campaign on the \"ID\" column\n",
    "merged_df = pd.merge(df_behaviour, df_demographics, on=\"ID\", how=\"inner\")\n",
    "merged_df = pd.merge(merged_df, df_campaign, on=\"ID\", how=\"inner\")\n",
    "\n",
    "# Display the merged DataFrame\n",
    "print(merged_df)"
   ]
  },
  {
   "cell_type": "code",
   "execution_count": 14,
   "metadata": {},
   "outputs": [],
   "source": [
    "# Convert the merged DataFrame to a CSV file\n",
    "#merged_df.to_csv('merged_data.csv', index=False)"
   ]
  },
  {
   "cell_type": "code",
   "execution_count": null,
   "metadata": {},
   "outputs": [],
   "source": []
  },
  {
   "cell_type": "code",
   "execution_count": 17,
   "metadata": {},
   "outputs": [
    {
     "name": "stdout",
     "output_type": "stream",
     "text": [
      "(2240, 13)\n",
      "(2240, 8)\n",
      "(2240, 9)\n"
     ]
    }
   ],
   "source": [
    "print(df_behaviour.shape)\n",
    "print(df_campaign.shape)\n",
    "print(df_demographics.shape )\n"
   ]
  }
 ],
 "metadata": {
  "kernelspec": {
   "display_name": "Py38",
   "language": "python",
   "name": "python3"
  },
  "language_info": {
   "codemirror_mode": {
    "name": "ipython",
    "version": 3
   },
   "file_extension": ".py",
   "mimetype": "text/x-python",
   "name": "python",
   "nbconvert_exporter": "python",
   "pygments_lexer": "ipython3",
   "version": "3.8.11"
  }
 },
 "nbformat": 4,
 "nbformat_minor": 2
}
