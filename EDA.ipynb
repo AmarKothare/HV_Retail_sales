{
 "cells": [
  {
   "cell_type": "code",
   "execution_count": 1,
   "metadata": {},
   "outputs": [
    {
     "name": "stderr",
     "output_type": "stream",
     "text": [
      "c:\\Users\\amark\\anaconda3\\envs\\Py38\\lib\\site-packages\\scipy\\__init__.py:146: UserWarning: A NumPy version >=1.16.5 and <1.23.0 is required for this version of SciPy (detected version 1.24.4\n",
      "  warnings.warn(f\"A NumPy version >={np_minversion} and <{np_maxversion}\"\n"
     ]
    }
   ],
   "source": [
    "# importing necessary libraries \n",
    "\n",
    "import pandas as pd\n",
    "import numpy as  np\n",
    "import matplotlib.pyplot as plt\n",
    "import seaborn as sns\n",
    "import plotly.express as px\n",
    "import plotly.io as pio\n",
    "import plotly.graph_objects as go\n",
    "#! pip install -U kaleido"
   ]
  },
  {
   "cell_type": "code",
   "execution_count": 2,
   "metadata": {},
   "outputs": [
    {
     "data": {
      "text/html": [
       "<div>\n",
       "<style scoped>\n",
       "    .dataframe tbody tr th:only-of-type {\n",
       "        vertical-align: middle;\n",
       "    }\n",
       "\n",
       "    .dataframe tbody tr th {\n",
       "        vertical-align: top;\n",
       "    }\n",
       "\n",
       "    .dataframe thead th {\n",
       "        text-align: right;\n",
       "    }\n",
       "</style>\n",
       "<table border=\"1\" class=\"dataframe\">\n",
       "  <thead>\n",
       "    <tr style=\"text-align: right;\">\n",
       "      <th></th>\n",
       "      <th>ID</th>\n",
       "      <th>Recency</th>\n",
       "      <th>MntWines</th>\n",
       "      <th>MntFruits</th>\n",
       "      <th>MntMeatProducts</th>\n",
       "      <th>MntFishProducts</th>\n",
       "      <th>MntSweetProducts</th>\n",
       "      <th>MntGoldProds</th>\n",
       "      <th>NumDealsPurchases</th>\n",
       "      <th>NumWebPurchases</th>\n",
       "      <th>...</th>\n",
       "      <th>Teenhome</th>\n",
       "      <th>Dt_Customer</th>\n",
       "      <th>Country</th>\n",
       "      <th>AcceptedCmp1</th>\n",
       "      <th>AcceptedCmp2</th>\n",
       "      <th>AcceptedCmp3</th>\n",
       "      <th>AcceptedCmp4</th>\n",
       "      <th>AcceptedCmp5</th>\n",
       "      <th>Response</th>\n",
       "      <th>Complain</th>\n",
       "    </tr>\n",
       "  </thead>\n",
       "  <tbody>\n",
       "    <tr>\n",
       "      <th>0</th>\n",
       "      <td>1826</td>\n",
       "      <td>0</td>\n",
       "      <td>189</td>\n",
       "      <td>104</td>\n",
       "      <td>379</td>\n",
       "      <td>111</td>\n",
       "      <td>189</td>\n",
       "      <td>218</td>\n",
       "      <td>1</td>\n",
       "      <td>4</td>\n",
       "      <td>...</td>\n",
       "      <td>0</td>\n",
       "      <td>6/16/14</td>\n",
       "      <td>SP</td>\n",
       "      <td>0</td>\n",
       "      <td>0</td>\n",
       "      <td>0</td>\n",
       "      <td>0</td>\n",
       "      <td>0</td>\n",
       "      <td>1</td>\n",
       "      <td>0</td>\n",
       "    </tr>\n",
       "    <tr>\n",
       "      <th>1</th>\n",
       "      <td>1</td>\n",
       "      <td>0</td>\n",
       "      <td>464</td>\n",
       "      <td>5</td>\n",
       "      <td>64</td>\n",
       "      <td>7</td>\n",
       "      <td>0</td>\n",
       "      <td>37</td>\n",
       "      <td>1</td>\n",
       "      <td>7</td>\n",
       "      <td>...</td>\n",
       "      <td>0</td>\n",
       "      <td>6/15/14</td>\n",
       "      <td>CA</td>\n",
       "      <td>0</td>\n",
       "      <td>1</td>\n",
       "      <td>0</td>\n",
       "      <td>0</td>\n",
       "      <td>0</td>\n",
       "      <td>1</td>\n",
       "      <td>0</td>\n",
       "    </tr>\n",
       "    <tr>\n",
       "      <th>2</th>\n",
       "      <td>10476</td>\n",
       "      <td>0</td>\n",
       "      <td>134</td>\n",
       "      <td>11</td>\n",
       "      <td>59</td>\n",
       "      <td>15</td>\n",
       "      <td>2</td>\n",
       "      <td>30</td>\n",
       "      <td>1</td>\n",
       "      <td>3</td>\n",
       "      <td>...</td>\n",
       "      <td>1</td>\n",
       "      <td>5/13/14</td>\n",
       "      <td>US</td>\n",
       "      <td>0</td>\n",
       "      <td>0</td>\n",
       "      <td>0</td>\n",
       "      <td>0</td>\n",
       "      <td>0</td>\n",
       "      <td>0</td>\n",
       "      <td>0</td>\n",
       "    </tr>\n",
       "    <tr>\n",
       "      <th>3</th>\n",
       "      <td>1386</td>\n",
       "      <td>0</td>\n",
       "      <td>10</td>\n",
       "      <td>0</td>\n",
       "      <td>1</td>\n",
       "      <td>0</td>\n",
       "      <td>0</td>\n",
       "      <td>0</td>\n",
       "      <td>1</td>\n",
       "      <td>1</td>\n",
       "      <td>...</td>\n",
       "      <td>1</td>\n",
       "      <td>5/11/14</td>\n",
       "      <td>AUS</td>\n",
       "      <td>0</td>\n",
       "      <td>0</td>\n",
       "      <td>0</td>\n",
       "      <td>0</td>\n",
       "      <td>0</td>\n",
       "      <td>0</td>\n",
       "      <td>0</td>\n",
       "    </tr>\n",
       "    <tr>\n",
       "      <th>4</th>\n",
       "      <td>5371</td>\n",
       "      <td>0</td>\n",
       "      <td>6</td>\n",
       "      <td>16</td>\n",
       "      <td>24</td>\n",
       "      <td>11</td>\n",
       "      <td>0</td>\n",
       "      <td>34</td>\n",
       "      <td>2</td>\n",
       "      <td>3</td>\n",
       "      <td>...</td>\n",
       "      <td>0</td>\n",
       "      <td>4/8/14</td>\n",
       "      <td>SP</td>\n",
       "      <td>0</td>\n",
       "      <td>0</td>\n",
       "      <td>1</td>\n",
       "      <td>0</td>\n",
       "      <td>0</td>\n",
       "      <td>1</td>\n",
       "      <td>0</td>\n",
       "    </tr>\n",
       "  </tbody>\n",
       "</table>\n",
       "<p>5 rows × 28 columns</p>\n",
       "</div>"
      ],
      "text/plain": [
       "      ID  Recency  MntWines  MntFruits  MntMeatProducts  MntFishProducts  \\\n",
       "0   1826        0       189        104              379              111   \n",
       "1      1        0       464          5               64                7   \n",
       "2  10476        0       134         11               59               15   \n",
       "3   1386        0        10          0                1                0   \n",
       "4   5371        0         6         16               24               11   \n",
       "\n",
       "   MntSweetProducts  MntGoldProds  NumDealsPurchases  NumWebPurchases  ...  \\\n",
       "0               189           218                  1                4  ...   \n",
       "1                 0            37                  1                7  ...   \n",
       "2                 2            30                  1                3  ...   \n",
       "3                 0             0                  1                1  ...   \n",
       "4                 0            34                  2                3  ...   \n",
       "\n",
       "   Teenhome  Dt_Customer  Country  AcceptedCmp1 AcceptedCmp2 AcceptedCmp3  \\\n",
       "0         0      6/16/14       SP             0            0            0   \n",
       "1         0      6/15/14       CA             0            1            0   \n",
       "2         1      5/13/14       US             0            0            0   \n",
       "3         1      5/11/14      AUS             0            0            0   \n",
       "4         0       4/8/14       SP             0            0            1   \n",
       "\n",
       "  AcceptedCmp4  AcceptedCmp5  Response Complain  \n",
       "0            0             0         1        0  \n",
       "1            0             0         1        0  \n",
       "2            0             0         0        0  \n",
       "3            0             0         0        0  \n",
       "4            0             0         1        0  \n",
       "\n",
       "[5 rows x 28 columns]"
      ]
     },
     "execution_count": 2,
     "metadata": {},
     "output_type": "execute_result"
    }
   ],
   "source": [
    "# reading the dataframe file\n",
    "\n",
    "data = pd.read_csv(\"merged_data.csv\")\n",
    "\n",
    "# reading the first 5 rows of the dataset\n",
    "\n",
    "data.head()"
   ]
  },
  {
   "cell_type": "markdown",
   "metadata": {},
   "source": [
    "## Column Analysis (lets try to do some basic column analysis)\n",
    "\n",
    "1) Find the different data types present in data\n",
    "2) find out the number of columns for each data types and also what are the columns under that datatype \n",
    "3) Create two list containing numerical and continous columns in it\n",
    "3) Creating a function column_analysis to perform the task mentioned above"
   ]
  },
  {
   "cell_type": "code",
   "execution_count": 3,
   "metadata": {},
   "outputs": [
    {
     "name": "stdout",
     "output_type": "stream",
     "text": [
      "--------------------------------------------------------------\n",
      " Datatypes in the dataset and their respective value counts\n"
     ]
    },
    {
     "data": {
      "text/plain": [
       "int64     23\n",
       "object     5\n",
       "Name: dtype, dtype: int64"
      ]
     },
     "metadata": {},
     "output_type": "display_data"
    },
    {
     "name": "stdout",
     "output_type": "stream",
     "text": [
      "--------------------------------------------------------------\n",
      "Data Type: int64\n",
      "            column_name  dtype\n",
      "0                    ID  int64\n",
      "1               Recency  int64\n",
      "2              MntWines  int64\n",
      "3             MntFruits  int64\n",
      "4       MntMeatProducts  int64\n",
      "5       MntFishProducts  int64\n",
      "6      MntSweetProducts  int64\n",
      "7          MntGoldProds  int64\n",
      "8     NumDealsPurchases  int64\n",
      "9       NumWebPurchases  int64\n",
      "10  NumCatalogPurchases  int64\n",
      "11    NumStorePurchases  int64\n",
      "12    NumWebVisitsMonth  int64\n",
      "13           Year_Birth  int64\n",
      "17              Kidhome  int64\n",
      "18             Teenhome  int64\n",
      "21         AcceptedCmp1  int64\n",
      "22         AcceptedCmp2  int64\n",
      "23         AcceptedCmp3  int64\n",
      "24         AcceptedCmp4  int64\n",
      "25         AcceptedCmp5  int64\n",
      "26             Response  int64\n",
      "27             Complain  int64\n",
      "\n",
      "Data Type: object\n",
      "       column_name   dtype\n",
      "14       Education  object\n",
      "15  Marital_Status  object\n",
      "16         Income   object\n",
      "19     Dt_Customer  object\n",
      "20         Country  object\n",
      "\n"
     ]
    }
   ],
   "source": [
    "# Creating a function column_analysis to perform the task mentioned above\n",
    "\n",
    "def column_analysis():\n",
    "    \n",
    "    # creating a new data frame for only columns\n",
    "    df_column = pd.DataFrame(data.dtypes).reset_index()\n",
    "\n",
    "    # Adding heading to column names \n",
    "    df_column.columns=[\"column_name\",\"dtype\"]\n",
    "    df_column\n",
    "\n",
    "    print(\"--------------------------------------------------------------\")\n",
    "\n",
    "    # what are the datatypes and it's value counts\n",
    "    print(\" Datatypes in the dataset and their respective value counts\")\n",
    "    display(df_column[\"dtype\"].value_counts())\n",
    "\n",
    "    print(\"--------------------------------------------------------------\")\n",
    "    \n",
    "  \n",
    "\n",
    "\n",
    "    # Group the DataFrame by 'dtype' column\n",
    "    grouped_data = df_column.groupby('dtype')\n",
    "\n",
    "    #Iterate over groups and display the grouped data\n",
    "    for dtype, group in grouped_data:\n",
    "        print(\"Data Type:\", dtype)\n",
    "        print(group)\n",
    "        print()\n",
    "        \n",
    "    \n",
    "        \n",
    "        \n",
    "        \n",
    "        \n",
    "        \n",
    "# calling the function\n",
    "column_analysis()\n"
   ]
  },
  {
   "cell_type": "markdown",
   "metadata": {},
   "source": [
    "### Data Preprocessing for Data Visualisation\n",
    "\n",
    "The Goal would be to do the following:\n",
    "\n",
    "1) Check for any inconsistency in the dataset\n",
    "2) check for missing values and handle it with some imputation statergy\n",
    "3) Check for outliers in the dataset and decide what statergy can be used to replace them \n"
   ]
  },
  {
   "cell_type": "code",
   "execution_count": 4,
   "metadata": {},
   "outputs": [
    {
     "name": "stdout",
     "output_type": "stream",
     "text": [
      "ID                      0\n",
      "Recency                 0\n",
      "MntWines                0\n",
      "MntFruits               0\n",
      "MntMeatProducts         0\n",
      "MntFishProducts         0\n",
      "MntSweetProducts        0\n",
      "MntGoldProds            0\n",
      "NumDealsPurchases       0\n",
      "NumWebPurchases         0\n",
      "NumCatalogPurchases     0\n",
      "NumStorePurchases       0\n",
      "NumWebVisitsMonth       0\n",
      "Year_Birth              0\n",
      "Education               0\n",
      "Marital_Status          0\n",
      " Income                24\n",
      "Kidhome                 0\n",
      "Teenhome                0\n",
      "Dt_Customer             0\n",
      "Country                 0\n",
      "AcceptedCmp1            0\n",
      "AcceptedCmp2            0\n",
      "AcceptedCmp3            0\n",
      "AcceptedCmp4            0\n",
      "AcceptedCmp5            0\n",
      "Response                0\n",
      "Complain                0\n",
      "dtype: int64\n"
     ]
    }
   ],
   "source": [
    "# Checking the count of missing values before imputation\n",
    "\n",
    "print(data.isna().sum())"
   ]
  },
  {
   "cell_type": "markdown",
   "metadata": {},
   "source": [
    "#### We have missing values only in Income\n",
    "\n",
    "##### Below code will be dedicated to processing of only income"
   ]
  },
  {
   "cell_type": "code",
   "execution_count": 5,
   "metadata": {},
   "outputs": [
    {
     "name": "stderr",
     "output_type": "stream",
     "text": [
      "C:\\Users\\amark\\AppData\\Local\\Temp/ipykernel_23252/348276417.py:12: FutureWarning: The default value of regex will change from True to False in a future version. In addition, single character regular expressions will *not* be treated as literal strings when regex=True.\n",
      "  data[\"Income\"]=data[\"Income\"].str.replace('$',\"\")\n",
      "C:\\Users\\amark\\AppData\\Local\\Temp/ipykernel_23252/348276417.py:16: FutureWarning: The default value of regex will change from True to False in a future version.\n",
      "  data[\"Income\"]=data[\"Income\"].str.replace('.00',\"\")\n"
     ]
    }
   ],
   "source": [
    "# Rename the column \" Income \" to \"Income\"\n",
    "data  = data.rename(columns={\" Income \":\"Income\"})\n",
    "\n",
    "\n",
    "# creating a function \"income_cao_transf\" to perform all the task related to preprocessing of income columns\n",
    "\n",
    "def income_col_transf():\n",
    "    \n",
    "     # As we can see the data in Income in in format $84,835 we need to remove the \"$\" and \",\" and \".00\" convert the datatype of Income to Int64\n",
    "\n",
    "    # Removing \"$\"\n",
    "    data[\"Income\"]=data[\"Income\"].str.replace('$',\"\")\n",
    "    # Removing \",\"\n",
    "    data[\"Income\"]=data[\"Income\"].str.replace(',',\"\")\n",
    "    # Removing \",\"\n",
    "    data[\"Income\"]=data[\"Income\"].str.replace('.00',\"\")\n",
    "\n",
    "\n",
    "    # filling the NaN values with 0 as string value \n",
    "    data[\"Income\"] = data[\"Income\"].fillna(\"0\")\n",
    "\n",
    "    # converting the datatype pf \"Income\" from object to int64\n",
    "    data[\"Income\"] = data[\"Income\"].astype(\"int64\")\n",
    "    \n",
    "#calling the function\n",
    "income_col_transf()\n"
   ]
  },
  {
   "cell_type": "code",
   "execution_count": 6,
   "metadata": {},
   "outputs": [],
   "source": [
    "#Creating list for categorical and numerical columns (helpful as we can use this same lists anywhere as per our need)\n",
    "\n",
    "\n",
    "numerical_columns = data.select_dtypes(include=['int64']).columns.tolist()\n",
    "categorical_columns = data.select_dtypes(include=['object']).columns.tolist()\n",
    "\n",
    "# Note : for some reason i was not able to include this block of code in above function for now I will keep it as it is will work on it after some time "
   ]
  },
  {
   "cell_type": "code",
   "execution_count": 7,
   "metadata": {},
   "outputs": [
    {
     "name": "stdout",
     "output_type": "stream",
     "text": [
      "ID                     0\n",
      "Recency                0\n",
      "MntWines               0\n",
      "MntFruits              0\n",
      "MntMeatProducts        0\n",
      "MntFishProducts        0\n",
      "MntSweetProducts       0\n",
      "MntGoldProds           0\n",
      "NumDealsPurchases      0\n",
      "NumWebPurchases        0\n",
      "NumCatalogPurchases    0\n",
      "NumStorePurchases      0\n",
      "NumWebVisitsMonth      0\n",
      "Year_Birth             0\n",
      "Education              0\n",
      "Marital_Status         0\n",
      "Income                 0\n",
      "Kidhome                0\n",
      "Teenhome               0\n",
      "Dt_Customer            0\n",
      "Country                0\n",
      "AcceptedCmp1           0\n",
      "AcceptedCmp2           0\n",
      "AcceptedCmp3           0\n",
      "AcceptedCmp4           0\n",
      "AcceptedCmp5           0\n",
      "Response               0\n",
      "Complain               0\n",
      "dtype: int64\n"
     ]
    }
   ],
   "source": [
    "# Checking the count of missing values after imputation (included in the function income_col_transf() )\n",
    "\n",
    "print(data.isna().sum())"
   ]
  },
  {
   "cell_type": "markdown",
   "metadata": {},
   "source": [
    "##### So all the missing values in Income are imputed by 0 as per above code block\n",
    "\n"
   ]
  },
  {
   "cell_type": "markdown",
   "metadata": {},
   "source": [
    "#### Here we need to observe one thing i.e before imputation there were 24 missing values in \"Income\"\n",
    "1) I replaced all those  24 \"Nan\" values with \"0\"(string) \n",
    "2) Then I converted the data type of \"Income\" to Int \n",
    "3) After above steps if we check all the data for rows with income zero the o/p is 26 values. So here 2 rows already had zero value \n",
    "\n",
    "#### Now I would like to replace all the 26 (0 values) with mean of the \"income\""
   ]
  },
  {
   "cell_type": "code",
   "execution_count": 8,
   "metadata": {},
   "outputs": [
    {
     "data": {
      "text/plain": [
       "134     0\n",
       "262     0\n",
       "394     0\n",
       "449     0\n",
       "525     0\n",
       "590     0\n",
       "899     0\n",
       "997     0\n",
       "1096    0\n",
       "1185    0\n",
       "1213    0\n",
       "1312    0\n",
       "1323    0\n",
       "1515    0\n",
       "1558    0\n",
       "1693    0\n",
       "1804    0\n",
       "1858    0\n",
       "1863    0\n",
       "1880    0\n",
       "1967    0\n",
       "1983    0\n",
       "2045    0\n",
       "2139    0\n",
       "2165    0\n",
       "2170    0\n",
       "Name: Income, dtype: int64"
      ]
     },
     "execution_count": 8,
     "metadata": {},
     "output_type": "execute_result"
    }
   ],
   "source": [
    "# checking what all Rows have been replaced by 0\n",
    "\n",
    "data.loc[data['Income'] ==0,\"Income\"]"
   ]
  },
  {
   "cell_type": "code",
   "execution_count": 9,
   "metadata": {},
   "outputs": [
    {
     "data": {
      "text/plain": [
       "'The mean value of the Income Column is : 50120'"
      ]
     },
     "execution_count": 9,
     "metadata": {},
     "output_type": "execute_result"
    }
   ],
   "source": [
    "# create a variable to store the mean value \n",
    "mean_income= round(data[\"Income\"].mean(),0)\n",
    "\n",
    "# convert the mean_income to int value since all majority of values in the Income column are int datatype as this will maintain the homogenity \n",
    "mean_income = mean_income.astype(\"int64\")\n",
    "\n",
    "'The mean value of the Income Column is : {}'.format(mean_income)\n"
   ]
  },
  {
   "cell_type": "code",
   "execution_count": 10,
   "metadata": {},
   "outputs": [],
   "source": [
    "# replacing the 26 values who had income zero with mean_income\n",
    "\n",
    "data.loc[data['Income'] ==0,\"Income\"]=mean_income"
   ]
  },
  {
   "cell_type": "code",
   "execution_count": 11,
   "metadata": {},
   "outputs": [
    {
     "data": {
      "text/plain": [
       "134     50120\n",
       "262     50120\n",
       "394     50120\n",
       "449     50120\n",
       "525     50120\n",
       "590     50120\n",
       "899     50120\n",
       "997     50120\n",
       "1096    50120\n",
       "1185    50120\n",
       "1213    50120\n",
       "1312    50120\n",
       "1323    50120\n",
       "1515    50120\n",
       "1558    50120\n",
       "1693    50120\n",
       "1804    50120\n",
       "1858    50120\n",
       "1863    50120\n",
       "1880    50120\n",
       "1967    50120\n",
       "1983    50120\n",
       "2045    50120\n",
       "2139    50120\n",
       "2165    50120\n",
       "2170    50120\n",
       "Name: Income, dtype: int64"
      ]
     },
     "execution_count": 11,
     "metadata": {},
     "output_type": "execute_result"
    }
   ],
   "source": [
    "# checking if the values are replaced correctly in the desired rows\n",
    "data[data[\"Income\"]==50120][\"Income\"]"
   ]
  },
  {
   "cell_type": "markdown",
   "metadata": {},
   "source": [
    "#### Lets do some Outlier detection\n",
    "\n",
    "1) lets plot a box plots\n",
    "2) lets store the output in some file for reference"
   ]
  },
  {
   "cell_type": "code",
   "execution_count": 12,
   "metadata": {},
   "outputs": [
    {
     "data": {
      "image/png": "[encoded data removed]",
      "text/plain": [
       "<Figure size 1440x2160 with 24 Axes>"
      ]
     },
     "metadata": {
      "needs_background": "light"
     },
     "output_type": "display_data"
    }
   ],
   "source": [
    "def box_plot():\n",
    "\n",
    "    plt.figure(figsize=(20,30))\n",
    "    for index,column in enumerate(numerical_columns):\n",
    "    \n",
    "        plt.subplot(6,4,index+1)\n",
    "        sns.boxplot(data=data, y=column)\n",
    "        plt.title(f\"Box Plot of {column}\")\n",
    "        plt.ylabel(\"Values\")\n",
    "    \n",
    "    plt.tight_layout()\n",
    "    plt.show()\n",
    "\n",
    "\n",
    "# calling the function\n",
    "box_plot()\n",
    "\n",
    "\n"
   ]
  },
  {
   "cell_type": "markdown",
   "metadata": {},
   "source": [
    "## Columns with/without outliers\n",
    "\n",
    "1) With Outliers : 18 Columns\n",
    "\n",
    "    MntWines, MntFruits,MntMeatProducts,MntFishProducts','MntSweetProducts','MntGoldProds','NumDealsPurchases','NumWebPurchases',NumCatalogPurchases,'NumWebVisitsMonth',\n",
    "   'Year_Birth','AcceptedCmp1','AcceptedCmp2','AcceptedCmp3','AcceptedCmp4','AcceptedCmp5','Response','Complain'\n",
    "\n",
    "2) Without Outliers : 5 columns\n",
    "\n",
    "    'ID','Recency',NumStorePurchases,Kidhome','Teenhome'\n",
    "    \n",
    "\n"
   ]
  },
  {
   "cell_type": "code",
   "execution_count": null,
   "metadata": {},
   "outputs": [],
   "source": [
    "\n",
    "#numerical_columns.append(\"Income\")\n",
    "numerical_columns"
   ]
  },
  {
   "cell_type": "markdown",
   "metadata": {},
   "source": [
    "### Demographics Analysis\n",
    "\n",
    "Lets try to do some analysis on demographics"
   ]
  },
  {
   "cell_type": "code",
   "execution_count": null,
   "metadata": {},
   "outputs": [],
   "source": [
    "# Lets do some value counts on Education, Marital Status, Kid home, Teen Home, Country\n",
    "\n",
    "demog_val = [\"Education\",\"Marital_Status\",\"Kidhome\",\"Teenhome\",\"Country\"]\n",
    "\n",
    "\n",
    "plt.figure(figsize=(20,25))\n",
    "for i, column in enumerate(demog_val):\n",
    "    plt.subplot(3,2,i+1)\n",
    "    value_counts = data[column].value_counts().sort_values(ascending=False)  # Sort value counts in descending order\n",
    "    sns.barplot(x=value_counts.values, y=value_counts.index)  # Create bar plot\n",
    "    \n",
    "    \n",
    "plt.tight_layout()\n",
    "plt.show()"
   ]
  },
  {
   "cell_type": "code",
   "execution_count": null,
   "metadata": {},
   "outputs": [],
   "source": [
    "data.info()"
   ]
  },
  {
   "cell_type": "code",
   "execution_count": null,
   "metadata": {},
   "outputs": [],
   "source": [
    "data[\"Dt_Customer\"]"
   ]
  },
  {
   "cell_type": "code",
   "execution_count": null,
   "metadata": {},
   "outputs": [],
   "source": [
    "data[\"Year_Birth\"]"
   ]
  },
  {
   "cell_type": "code",
   "execution_count": null,
   "metadata": {},
   "outputs": [],
   "source": [
    "data.shape"
   ]
  }
 ],
 "metadata": {
  "kernelspec": {
   "display_name": "Py38",
   "language": "python",
   "name": "python3"
  },
  "language_info": {
   "codemirror_mode": {
    "name": "ipython",
    "version": 3
   },
   "file_extension": ".py",
   "mimetype": "text/x-python",
   "name": "python",
   "nbconvert_exporter": "python",
   "pygments_lexer": "ipython3",
   "version": "3.8.11"
  }
 },
 "nbformat": 4,
 "nbformat_minor": 2
}
