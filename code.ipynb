{
 "cells": [
  {
   "cell_type": "code",
   "execution_count": 1,
   "metadata": {},
   "outputs": [],
   "source": [
    "# Importing all the necessary libraries\n",
    "\n",
    "import pandas as pd\n",
    "import json"
   ]
  },
  {
   "cell_type": "code",
   "execution_count": null,
   "metadata": {},
   "outputs": [],
   "source": [
    "# reading the beheviour JSON file and converting it into pandas dataframe and saving it in csv format\n",
    "\n",
    "# Load JSON data from file\n",
    "with open('behaviour.json') as f:\n",
    "    data = json.load(f)\n",
    "\n",
    "# Initialize an empty list to store dictionaries\n",
    "rows = []\n",
    "\n",
    "# Iterate over each dictionary in the list\n",
    "for item in data:\n",
    "    # Extract the ID and attributes from the dictionary\n",
    "    id_ = list(item.keys())[0]\n",
    "    attributes = item[id_]\n",
    "    \n",
    "    # Create a dictionary with ID as a key and attributes\n",
    "    row = {'ID': id_}\n",
    "    row.update(attributes)\n",
    "    rows.append(row)\n",
    "\n",
    "# Create a DataFrame from the list of dictionaries\n",
    "df_behaviour = pd.DataFrame(rows)\n",
    "\n",
    "# Save the DataFrame to a CSV file\n",
    "df_behaviour.to_csv('behaviour.csv', index=False)\n",
    "\n",
    "# Display the DataFrame\n",
    "print(df_behaviour.head())"
   ]
  },
  {
   "cell_type": "code",
   "execution_count": null,
   "metadata": {},
   "outputs": [],
   "source": [
    "# reading the campaingn JSON file and converting it into pandas dataframe and saving it in csv format\n",
    "\n",
    "\n",
    "\n",
    "\n",
    "# Load JSON data from file\n",
    "with open('campaign.json') as f:\n",
    "    data = json.load(f)\n",
    "\n",
    "# Initialize an empty list to store dictionaries\n",
    "rows = []\n",
    "\n",
    "# Iterate over each dictionary in the list\n",
    "for item in data:\n",
    "    # Extract the ID and attributes from the dictionary\n",
    "    id_ = list(item.keys())[0]\n",
    "    attributes = item[id_]\n",
    "    \n",
    "    # Create a dictionary with ID as a key and attributes\n",
    "    row = {'ID': id_}\n",
    "    row.update(attributes)\n",
    "    rows.append(row)\n",
    "\n",
    "# Create a DataFrame from the list of dictionaries\n",
    "df_campaign = pd.DataFrame(rows)\n",
    "\n",
    "# Save the DataFrame to a CSV file\n",
    "df_campaign.to_csv('campaign.csv', index=False)"
   ]
  },
  {
   "cell_type": "code",
   "execution_count": null,
   "metadata": {},
   "outputs": [],
   "source": [
    "df_campaign"
   ]
  },
  {
   "cell_type": "code",
   "execution_count": null,
   "metadata": {},
   "outputs": [],
   "source": [
    "\n",
    "# reading the demographics file and converting it into pandas dataframe and saving it in csv format\n",
    "\n",
    "\n",
    "# Read the text file into a pandas DataFrame\n",
    "df_demographics = pd.read_csv('demographics.txt', delimiter='\\t')\n",
    "\n",
    "# Display the DataFrame\n",
    "print(df_demographics)\n",
    "\n",
    "# Save the DataFrame to a CSV file\n",
    "df_demographics.to_csv('demographics.csv', index=False)"
   ]
  },
  {
   "cell_type": "code",
   "execution_count": null,
   "metadata": {},
   "outputs": [],
   "source": []
  }
 ],
 "metadata": {
  "kernelspec": {
   "display_name": "Py38",
   "language": "python",
   "name": "python3"
  },
  "language_info": {
   "codemirror_mode": {
    "name": "ipython",
    "version": 3
   },
   "file_extension": ".py",
   "mimetype": "text/x-python",
   "name": "python",
   "nbconvert_exporter": "python",
   "pygments_lexer": "ipython3",
   "version": "3.8.11"
  }
 },
 "nbformat": 4,
 "nbformat_minor": 2
}
